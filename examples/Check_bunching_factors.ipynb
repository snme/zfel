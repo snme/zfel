{
 "cells": [
  {
   "cell_type": "markdown",
   "metadata": {},
   "source": [
    "1.Import packages"
   ]
  },
  {
   "cell_type": "code",
   "execution_count": 11,
   "metadata": {},
   "outputs": [
    {
     "name": "stdout",
     "output_type": "stream",
     "text": [
      "['/Users/Sathya/anaconda3/envs/pyrecent/lib/python38.zip', '/Users/Sathya/anaconda3/envs/pyrecent/lib/python3.8', '/Users/Sathya/anaconda3/envs/pyrecent/lib/python3.8/lib-dynload', '', '/Users/Sathya/anaconda3/envs/pyrecent/lib/python3.8/site-packages', '/Users/Sathya/anaconda3/envs/pyrecent/lib/python3.8/site-packages/IPython/extensions', '/Users/Sathya/.ipython', '/Users/Sathya/Documents/SLAC/zfel']\n"
     ]
    }
   ],
   "source": [
    "#dirty soln, but enables importing zfel to work.\n",
    "import sys, os\n",
    "parentdir = os.path.dirname(os.path.dirname(os.path.realpath('__file__')))\n",
    "sys.path.append(parentdir) if parentdir not in sys.path else sys.path\n",
    "print(sys.path)"
   ]
  },
  {
   "cell_type": "code",
   "execution_count": 13,
   "metadata": {},
   "outputs": [],
   "source": [
    "import numpy as np\n",
    "from numpy import genfromtxt\n",
    "import scipy\n",
    "from scipy import special\n",
    "from zfel import general_load_bucket\n",
    "import matplotlib.pyplot as plt "
   ]
  },
  {
   "cell_type": "markdown",
   "metadata": {},
   "source": [
    "2.Input parameters"
   ]
  },
  {
   "cell_type": "code",
   "execution_count": 16,
   "metadata": {},
   "outputs": [],
   "source": [
    "Nruns=1                             # Number of runs\n",
    "npart   = 512                       # n-macro-particles per bucket \n",
    "s_steps = 200#31                    # n-sample points along bunch length\n",
    "z_steps = 200#20                    # n-sample points along undulator\n",
    "energy  = 4313.34*1E6               # electron energy [eV]\n",
    "eSpread = 0#1.0e-4                  # relative rms energy spread [ ]\n",
    "emitN   = 1.2e-6                    # normalized transverse emittance [m-rad]\n",
    "currentMax = 3900                   # peak current [Ampere]\n",
    "beta = 26                           # mean beta [meter]\n",
    "unduPeriod = 0.03                   # undulator period [meter]\n",
    "unduK = 3.5                         # undulator parameter, K [ ]\n",
    "unduL = 70#30                       # length of undulator [meter]\n",
    "radWavelength = 1.5e-9              # seed wavelength? [meter], used only in single-freuqency runs\n",
    "dEdz = 0                            # rate of relative energy gain or taper [keV/m], optimal~130\n",
    "iopt = 5                            # 5=SASE, 4=seeded\n",
    "P0 = 10000*0.0                      # small seed input power [W]\n",
    "constseed = 1                       # whether we want to use constant random seed for reproducibility, 1 Yes, 0 No\n",
    "particle_position=genfromtxt('./Inputs/weird_particle_position.csv', delimiter=',') # or None  \n",
    "# particle information with positions in meter and eta,\\\n",
    "# if we want to load random particle positions and energy, then set None\n",
    "hist_rule='square-root'             # 'square-root' or 'sturges' or 'rice-rule' or 'self-design', number \\\n",
    "                                    #  of intervals to generate the histogram of eta value in a bucket"
   ]
  },
  {
   "cell_type": "markdown",
   "metadata": {},
   "source": [
    "3. Calculating intermediate parameters and bunching factor"
   ]
  },
  {
   "cell_type": "code",
   "execution_count": 33,
   "metadata": {},
   "outputs": [],
   "source": [
    "# whether to use constant random seed for reproducibility\n",
    "if constseed==1:\n",
    "    np.random.seed(22)\n",
    "\n",
    "# Some constant values\n",
    "mc2 = 0.51099906E6#510.99906E-3      # Electron rest mass in eV\n",
    "c = 2.99792458E8        # light speed in meter\n",
    "e = 1.60217733E-19      # electron charge in Coulomb\n",
    "\n",
    "gamma0  = energy/mc2                                    # central energy of the beam in unit of mc2\n",
    "\n",
    "resWavelength = unduPeriod*(1+unduK**2/2.0)\\\n",
    "                /(2*gamma0**2)                          # resonant wavelength\n",
    "coopLength = resWavelength/unduPeriod                # cooperation length\n",
    "gainLength = 1                                      # rough gain length\n",
    "#cs0  = bunchLength/coopLength                           # bunch length in units of cooperation length     \n",
    "z0    = unduL/gainLength                                # wiggler length in units of gain length\n",
    "delt  = z0/z_steps                                      # integration step in z0 ~ 0.1 gain length\n",
    "dels  = delt                                            # integration step in s0 must be same as in z0 \n",
    "gbar  = (resWavelength-radWavelength)\\\n",
    "        /(radWavelength)                                # scaled detune parameter\n",
    "delg  = eSpread                                         # Gaussian energy spread in units of rho \n",
    "Ns    = currentMax*unduL/unduPeriod/z_steps\\\n",
    "        *resWavelength/c/e                              # N electrons per s-slice [ ]\n",
    "#load buckets\n",
    "GLBResult=general_load_bucket.general_load_bucket(npart, Ns, coopLength, particle_position, \\\n",
    "                                                            s_steps, dels, hist_rule, gbar=gbar, \\\n",
    "                                                            delg=delg, iopt=iopt)\n",
    "thet_init = GLBResult['thet_init']\n",
    "\n",
    "bunching=np.mean(np.real(np.exp(-1j*thet_init)),axis=1)\\\n",
    "                          +np.mean(np.imag(np.exp(-1j*thet_init)),axis=1)*1j            #bunching factor calculation   "
   ]
  },
  {
   "cell_type": "markdown",
   "metadata": {},
   "source": [
    "4. Verify whether the initial bunching level is reasonable"
   ]
  },
  {
   "cell_type": "code",
   "execution_count": 34,
   "metadata": {
    "scrolled": true
   },
   "outputs": [
    {
     "name": "stdout",
     "output_type": "stream",
     "text": [
      "0.0008998043866928951\n",
      "0.0008389101946493842\n"
     ]
    }
   ],
   "source": [
    "print(np.sqrt(np.mean(np.absolute(bunching)**2)))\n",
    "print(1/np.sqrt(Ns))"
   ]
  },
  {
   "cell_type": "code",
   "execution_count": 30,
   "metadata": {
    "scrolled": true
   },
   "outputs": [
    {
     "name": "stdout",
     "output_type": "stream",
     "text": [
      "[ 4.01984714e-04+1.71370977e-04j -4.66663358e-04-1.94303485e-04j\n",
      "  5.01625206e-04-1.18956616e-04j  3.78691335e-04+6.40077661e-04j\n",
      "  1.13388115e-05+8.12275326e-05j  4.18544819e-04-9.82686433e-04j\n",
      " -3.61089111e-04+9.57741692e-04j -1.13933888e-03+2.71766911e-05j\n",
      "  1.02673701e-04+6.10609989e-04j  5.74705123e-04+5.14904204e-04j\n",
      " -1.50366211e-05+1.10202806e-04j -1.14180994e-04+3.05971024e-05j\n",
      "  1.04139789e-03+2.79988241e-04j  4.81343410e-05-2.04222563e-04j\n",
      "  7.00988605e-04+3.51101664e-04j -5.26823328e-04+2.49805577e-04j\n",
      " -1.04116751e-04-1.53628503e-03j -2.02266459e-03+5.17948185e-04j\n",
      "  1.98705779e-04+1.15856569e-03j  9.33902704e-04-8.48183114e-04j\n",
      " -1.98333060e-03-4.93789773e-04j -7.38442876e-04-5.48435379e-04j\n",
      " -6.66004905e-04-1.53244311e-03j  3.44535725e-04-1.10730609e-04j\n",
      " -9.02690692e-04+5.28613766e-04j  2.75459156e-04+6.19822889e-04j\n",
      "  7.95605323e-05+2.67027962e-04j -1.15325564e-03-2.76383741e-04j\n",
      " -1.05913778e-04-7.54250775e-04j  5.47293556e-04-8.19845850e-04j\n",
      "  3.71310784e-04-1.37369864e-04j  2.85391460e-04-8.84727494e-05j\n",
      "  6.87457665e-04+9.58490826e-04j  1.64004143e-04+7.20727074e-04j\n",
      "  1.06251018e-03-4.12388788e-04j -3.58247393e-04-2.88785951e-04j\n",
      "  3.89938068e-04+1.78522497e-05j  2.69249076e-04-8.43954259e-04j\n",
      " -9.37398501e-04-4.63235886e-04j  7.53092558e-05+4.79567956e-04j\n",
      " -7.81030697e-04-1.62197652e-04j  2.99079190e-04+6.06755699e-04j\n",
      "  1.11289825e-03+2.63372302e-04j -1.35613366e-04+2.61281354e-05j\n",
      "  1.04497444e-03-7.76319912e-04j -2.58236352e-04-9.22525233e-04j\n",
      " -2.13225176e-04+4.11378758e-04j  6.94858826e-04+5.91945832e-05j\n",
      " -4.46588453e-04-4.65834330e-05j  7.18872982e-04-3.53183173e-04j\n",
      "  1.12585075e-03+4.34383181e-04j  2.72655402e-06+1.71227049e-04j\n",
      " -9.46105554e-04+3.91080049e-04j -3.07373143e-04+5.46414456e-04j\n",
      "  1.16452104e-03+5.85526189e-04j -8.57896325e-04-6.07416535e-04j\n",
      "  1.12310696e-04-1.49907788e-03j  5.81958567e-04-4.44486600e-05j\n",
      " -8.49910944e-04-5.28978323e-04j -1.86223295e-04-1.47415502e-04j\n",
      "  4.43108118e-04+3.68010132e-04j  7.92646960e-04-1.22230048e-03j\n",
      " -1.38036677e-04+4.60423981e-04j  2.12240453e-03-3.03987119e-05j\n",
      " -1.08264810e-03-2.38063194e-04j -1.66412704e-04+8.58641407e-06j\n",
      "  2.88689909e-04-3.13927325e-04j  6.93871066e-04+4.04086757e-04j\n",
      " -1.68683282e-04+8.12145465e-04j -2.55892683e-04+1.65862788e-04j\n",
      "  6.75379565e-04-5.80008910e-04j  1.00492435e-04+6.42328001e-05j\n",
      "  3.89940183e-05-2.50588411e-04j  8.86449560e-04-7.85634159e-04j\n",
      " -1.21905063e-04+2.41760356e-04j  9.71074079e-04-1.27110315e-04j\n",
      "  2.52523647e-04+2.06661592e-05j  3.03518672e-04-5.45948081e-05j\n",
      " -4.93285844e-04-1.20473861e-03j  2.56560023e-04-8.04848647e-06j\n",
      "  1.03251295e-03+7.00645412e-05j -3.46801155e-04-4.16020409e-04j\n",
      " -8.01754974e-04-4.37969023e-05j -8.09483668e-04-7.52493263e-05j\n",
      "  1.71197878e-04+3.14438162e-04j  2.46904522e-04-1.93868023e-04j\n",
      " -5.93275473e-04-2.90508732e-04j -2.23491712e-04-5.63508056e-04j\n",
      "  9.14154531e-04+1.52892190e-04j -5.57187475e-04-6.26560964e-04j\n",
      "  2.93244687e-04-3.90579913e-04j -6.39268820e-05-3.14194501e-04j\n",
      "  7.68141638e-04+1.12980849e-04j -5.72368291e-04-1.19892680e-03j\n",
      "  1.91555132e-04+7.85960848e-04j -5.87136076e-04+3.69105272e-04j\n",
      " -4.96230957e-04+1.01561412e-03j -5.09955660e-04-2.43170216e-04j\n",
      " -2.55757132e-04-1.15211463e-03j -4.53325079e-04-7.67630331e-04j\n",
      " -2.14365041e-04-1.38499522e-03j -7.31938533e-04+2.22763005e-04j\n",
      "  7.73697266e-05-4.16161708e-04j  2.14954527e-04-2.68769681e-04j\n",
      " -7.72687113e-04-5.24820709e-04j  8.21672988e-04+4.49995253e-04j\n",
      " -8.67997725e-04-1.96353162e-04j  1.28815666e-03-7.88957780e-04j\n",
      "  1.71046218e-04-2.59443535e-04j -1.80871143e-04-1.53092094e-03j\n",
      " -1.86392532e-04+6.39424780e-04j  1.11775445e-04+1.12993010e-03j\n",
      " -9.91935981e-04+6.30609382e-04j  1.53127063e-05-6.28446844e-05j\n",
      "  1.53139512e-03-1.29344840e-04j -4.97885988e-04+3.47333610e-04j\n",
      " -5.56450903e-04-9.10628396e-05j  6.20103734e-04-7.35598642e-04j\n",
      " -3.55645864e-04-4.98252328e-04j  1.43839245e-03+1.41589220e-07j\n",
      "  2.68076618e-04+2.50451990e-04j -1.33252738e-03-9.14998096e-04j\n",
      " -8.07698849e-04+7.70579846e-04j  1.16501042e-04+2.38608304e-04j\n",
      " -1.57538583e-03+9.20438685e-04j -1.01383478e-03-3.99838672e-04j\n",
      " -9.71679145e-05-3.99347503e-04j -2.69106632e-04+4.03075076e-05j\n",
      " -1.08050730e-03-1.05433582e-04j -8.34077572e-04-7.77223580e-04j\n",
      " -8.62071666e-04+9.85037521e-04j  3.63530049e-04-5.49436332e-04j\n",
      "  4.01851364e-05-6.05663602e-04j  2.74105077e-04-4.24811719e-04j\n",
      " -9.42617751e-04+5.91896417e-04j  8.38296606e-04+4.93452946e-04j\n",
      " -4.94103080e-04-7.82352692e-04j -3.95800219e-04+2.10095599e-04j\n",
      "  7.17896879e-04+2.08480725e-04j  2.64836164e-04+3.24459450e-04j\n",
      "  5.10151643e-05-1.03487187e-03j  6.30690093e-04+2.56119284e-04j\n",
      "  9.00010858e-04+8.92853348e-04j -1.04984287e-03+5.99623175e-04j\n",
      " -6.30652713e-04-6.54123705e-04j -2.40268727e-04+2.25305299e-05j\n",
      "  3.72948263e-04+9.54327847e-04j  1.07248618e-04-2.03383988e-05j\n",
      " -4.35388585e-04-2.18080226e-04j  6.09181871e-04-2.90213782e-04j\n",
      "  9.85754984e-05-2.76388417e-04j -9.08346293e-04+7.47536922e-04j\n",
      " -5.20993133e-04-3.90189496e-04j  9.39001713e-04+1.33093128e-04j\n",
      "  3.00155546e-04+6.64424246e-04j  9.02883656e-05-1.30005343e-04j\n",
      " -2.28655739e-05+1.04965513e-04j -3.96251406e-04+1.16088623e-03j\n",
      " -6.97346993e-04+3.03590182e-04j -6.51891977e-04-5.02503070e-04j\n",
      " -3.70126089e-04-9.60085765e-04j  4.09408333e-04-3.66507236e-04j\n",
      " -7.37664716e-04+6.94817299e-06j  9.53222488e-04+1.51380463e-04j\n",
      " -6.91239695e-04-5.79126063e-04j -1.83823905e-04-4.31816835e-06j\n",
      "  1.78324682e-04-4.60297988e-04j -8.06114007e-04+3.24131450e-04j\n",
      "  5.90683364e-04-1.65616348e-03j  1.87714175e-04+6.01870275e-04j\n",
      "  7.36392917e-04+9.14602959e-05j  6.12002779e-05+7.71738544e-04j\n",
      " -1.80839721e-03-6.25746307e-04j  2.45454755e-04-7.14509211e-04j\n",
      " -1.68264336e-04+1.91128786e-04j -1.08255405e-03+1.91023344e-04j\n",
      " -3.94445812e-05-5.34934025e-04j  1.99207730e-04+6.19081266e-04j\n",
      "  2.86799918e-04-3.09318857e-04j  1.32983092e-03+4.48748590e-04j\n",
      "  1.27313210e-03+8.61327279e-04j -6.31247501e-04+7.05522682e-04j\n",
      " -3.86653894e-04+5.29827715e-04j -3.54637534e-04+1.39509772e-04j\n",
      " -5.70479274e-04+6.77964959e-04j  2.62198320e-04-4.53223053e-04j\n",
      " -3.20508029e-04-5.09689836e-05j -6.59966741e-04-6.61602449e-04j\n",
      " -1.30820331e-03+1.05910070e-04j -5.75264759e-05-7.32963451e-04j\n",
      "  2.05757978e-04+5.78099056e-04j -8.07021413e-04-9.20946675e-04j\n",
      " -1.69553450e-05-6.47389651e-04j  2.25339190e-04+6.56048866e-04j\n",
      " -4.30384030e-04+2.38235612e-04j  5.15970880e-04+5.20699859e-05j\n",
      " -3.60687988e-04-6.27034479e-04j  6.42895117e-04-3.93079215e-04j\n",
      "  5.95991056e-04+1.04085019e-04j -2.50298129e-05+2.59046913e-06j]\n"
     ]
    }
   ],
   "source": [
    "print(bunching)"
   ]
  },
  {
   "cell_type": "code",
   "execution_count": null,
   "metadata": {},
   "outputs": [],
   "source": []
  }
 ],
 "metadata": {
  "kernelspec": {
   "display_name": "Python 3",
   "language": "python",
   "name": "python3"
  },
  "language_info": {
   "codemirror_mode": {
    "name": "ipython",
    "version": 3
   },
   "file_extension": ".py",
   "mimetype": "text/x-python",
   "name": "python",
   "nbconvert_exporter": "python",
   "pygments_lexer": "ipython3",
   "version": "3.8.2"
  }
 },
 "nbformat": 4,
 "nbformat_minor": 2
}
